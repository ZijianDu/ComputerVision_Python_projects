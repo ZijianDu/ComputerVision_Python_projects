{
 "cells": [
  {
   "cell_type": "markdown",
   "metadata": {
    "colab_type": "text",
    "id": "DmftS3V9FgP7"
   },
   "source": [
    "### ASSIGNMENT : CAMERA CALIBRATION\n",
    "\n",
    "#### A few guidelines:\n",
    "#### Before going further, read the accompanying document CalibrationAssignment.docx  which describes the assignment and the the things you need to do.\n",
    "#### Write a separate report answering the questions described in CalibrationAssignment.docx. Upload the report (as a .pdf file) as well as the completed .ipynb file with outputs on Blackboard\n",
    "Each student should work on the assignment independently.\n",
    "\n",
    "The code provided can be run on Google Colaboratory -- colab.research.google.com -- with only one modification (see below). "
   ]
  },
  {
   "cell_type": "code",
   "execution_count": 0,
   "metadata": {
    "colab": {},
    "colab_type": "code",
    "collapsed": true,
    "id": "Wma7m5CNU4Sk"
   },
   "outputs": [],
   "source": [
    "import numpy as np\n",
    "import cv2\n",
    "import scipy.io\n",
    "import os\n",
    "from numpy.linalg import norm\n",
    "from matplotlib import pyplot as plt\n",
    "from numpy.linalg import det\n",
    "from numpy.linalg import inv\n",
    "from scipy.linalg import rq\n",
    "from numpy.linalg import svd"
   ]
  },
  {
   "cell_type": "markdown",
   "metadata": {
    "colab_type": "text",
    "id": "-kGO1wv-_QyJ"
   },
   "source": [
    "####This part of the code lets you use files from your Google Drive account\n",
    "####You need not use this if you are not using Google Colaboratory\n",
    "####Running code on Google Colab\n",
    "\n",
    "(a) Make a folder on Google Drive, upload this file and all the data files provided to you into the same folder\n",
    "\n",
    "(b) The last part of the URL will serve as the \"folder_id\" in the line below\n",
    "\n",
    "If you are unsure, you can read further here : https://stackoverflow.com/questions/48376580/google-colab-how-to-read-data-from-my-google-drive"
   ]
  },
  {
   "cell_type": "code",
   "execution_count": 0,
   "metadata": {
    "colab": {},
    "colab_type": "code",
    "collapsed": true,
    "id": "epoOxIRV8a_1"
   },
   "outputs": [],
   "source": [
    "folder_id = 'last-part-of-URL' # Enter the last part of the URL of the Google Drive folder here\n",
    "\n",
    "!pip install -U -q PyDrive\n",
    "\n",
    "from pydrive.auth import GoogleAuth\n",
    "from pydrive.drive import GoogleDrive\n",
    "from google.colab import auth\n",
    "from oauth2client.client import GoogleCredentials\n",
    "\n",
    "\n",
    "# 1. Authenticate and create the PyDrive client.\n",
    "auth.authenticate_user()\n",
    "gauth = GoogleAuth()\n",
    "gauth.credentials = GoogleCredentials.get_application_default()\n",
    "drive = GoogleDrive(gauth)\n",
    "\n",
    "# choose a local (colab) directory to store the data.\n",
    "local_download_path = os.path.expanduser('~/data')\n",
    "try:\n",
    "  os.makedirs(local_download_path)\n",
    "except: pass\n",
    "\n",
    "# 2. Auto-iterate using the query syntax\n",
    "#    https://developers.google.com/drive/v2/web/search-parameters\n",
    "file_list = drive.ListFile(\n",
    "    {'q': '\\'' + folder_id + \"\\' in parents\"}).GetList()\n",
    "\n",
    "for f in file_list:\n",
    "  # 3. Create & download by id.\n",
    "  print('title: %s, id: %s' % (f['title'], f['id']))\n",
    "  fname = os.path.join(local_download_path, f['title'])\n",
    "  print('downloading to {}'.format(fname))\n",
    "  f_ = drive.CreateFile({'id': f['id']})\n",
    "  f_.GetContentFile(fname)\n",
    "  \n",
    "os.chdir(local_download_path)"
   ]
  },
  {
   "cell_type": "markdown",
   "metadata": {
    "colab_type": "text",
    "id": "fTUXHAEoWSMU"
   },
   "source": [
    "####PART 1: Given corresponding 2d points in the image and 3d coordinates with known extrinsics, estimate the camera intrinsics of the form given in the CalibrationAssignment.docx"
   ]
  },
  {
   "cell_type": "code",
   "execution_count": 0,
   "metadata": {
    "colab": {},
    "colab_type": "code",
    "collapsed": true,
    "id": "DAdmjVtfVJrv"
   },
   "outputs": [],
   "source": [
    "# Code for Part 1 starts here\n",
    "\n",
    "# Step 1: Load the data file pt_corres.mat\n",
    "data_part1 = scipy.io.loadmat('pt_corres.mat')\n",
    "cam_pts_3D = data_part1['cam_pts_3D']         # Load the 3d points\n",
    "pts_2D = data_part1['pts_2D']                 # Load the corresponding 2d points\n",
    "\n",
    "print pts_2D.shape\n",
    "print cam_pts_3D.shape\n",
    "\n",
    "# Step 2: Write your code here to compute the camera intrinsics \n",
    "\n",
    "\n",
    "# Code for Part 1 ends here"
   ]
  },
  {
   "cell_type": "markdown",
   "metadata": {
    "colab_type": "text",
    "id": "WvwcavClWxUa"
   },
   "source": [
    "####PART 2: Given 2d points on the image and corresponding 3d points in the world-coordinate system, estimate both intrinsics and extrinsics. You need to fill in the code for the function calibrate() in calib_DLT.ipynb before running the cell below"
   ]
  },
  {
   "cell_type": "code",
   "execution_count": 0,
   "metadata": {
    "colab": {},
    "colab_type": "code",
    "collapsed": true,
    "id": "s_21yq8GXM9T"
   },
   "outputs": [],
   "source": [
    "def calibrate(x,X):\n",
    "  '''\n",
    "  This function computes camera projection matrix from 3D scene points\n",
    "  and corresponding 2D image points with the Direct Linear Transformation (DLT).\n",
    "  \n",
    "  Usage:\n",
    "  P = calibrate(x, X)\n",
    "  \n",
    "  Input:\n",
    "  x: 2xn image points\n",
    "  X: 3xn scene points\n",
    "  \n",
    "  Output:\n",
    "  P: 3x4 camera projection matrix\n",
    "  \n",
    "  '''\n",
    "  \n",
    "  # Your code goes here\n",
    "  \n",
    "  # Hint 1: Convert to homogeneous coordinates first\n",
    "  # Hint 2: np.hstack and np.vstack are useful functions\n",
    "  \n",
    "  # Warning: The svd function from Numpy returns U, Sigma and V_transpose (not V, unlike Matlab)\n",
    "  \n",
    "  \n",
    "  \n",
    "  return P\n",
    "\n",
    "#######################################################################################################################################################################################################\n",
    "\n",
    "def P_to_KRt(P):\n",
    "  '''\n",
    "  \n",
    "  This function computes the decomposition of the projection matrix into intrinsic parameters, K, and extrinsic parameters Q (the rotation matrix) and t (the translation vector)\n",
    "  \n",
    "  Usage:\n",
    "  K, Q, t = P_to_KRt(P)\n",
    "  \n",
    "  Input: \n",
    "  P: 3x4 projection matrix\n",
    "  \n",
    "  Outputs:\n",
    "  K: 3x3 camera intrinsics\n",
    "  Q: 3x3 rotation matrix (extrinsics)\n",
    "  t: 3x1 translation vector(extrinsics)\n",
    "  \n",
    "  '''\n",
    "  \n",
    "  M = P[0:3,0:3]\n",
    "  \n",
    "  R, Q = rq(M)\n",
    "    \n",
    "  K = R/float(R[2,2])\n",
    "  \n",
    "  if K[0,0] < 0:\n",
    "    K[:,0] = -1*K[:,0]\n",
    "    Q[0,:] = -1*Q[0,:]\n",
    "    \n",
    "  if K[1,1] < 0:\n",
    "    K[:,1] = -1*K[:,1]\n",
    "    Q[1,:] = -1*Q[1,:]\n",
    "  \n",
    "  if det(Q) < 0:\n",
    "    print 'Warning: Determinant of the supposed rotation matrix is -1'\n",
    "  \n",
    "  P_3_3 = np.dot(K,Q)\n",
    "  \n",
    "  P_proper_scale = (P_3_3[0,0]*P)/float(P[0,0])\n",
    "  \n",
    "  t = np.dot(inv(K), P_proper_scale[:,3])\n",
    "  \n",
    "  return K, Q, t\n",
    "\n",
    "#######################################################################################################################################################################################################\n",
    "\n",
    "# Code for Part 2 starts here\n",
    "\n",
    "# Step 1 : Load the data files rubik_2D_pts.mat and rubik_3d_pts.mat\n",
    "\n",
    "pts_3d = scipy.io.loadmat('rubik_3D_pts.mat')['pts_3d'] # 3D points in the world-coordinate system with one of the corners of the Rubik's cube as the origin; side of each smaller cube = 1 unit\n",
    "pts_2d = scipy.io.loadmat('rubik_2D_pts.mat')['pts_2d'] # The corresponding 2D points on the image rubik_cube.jpg\n",
    "\n",
    "print pts_2d.shape\n",
    "print pts_3d.shape\n",
    "\n",
    "\n",
    "# Step 2: Get the camera calibration matrix P\n",
    "  \n",
    "P = calibrate(pts_2d, pts_3d)     # You need to fill in the code for this function before you execute this part of the code\n",
    "\n",
    "print 'P = ', P \n",
    "\n",
    "# Step 3: Use the function P_to_KRt (already written for you) to decompose P into intrinsics (K) and extrinsics (R and t)\n",
    "[K, R, t] = P_to_KRt(P)\n",
    "\n",
    "print 'K = ', K\n",
    "print 'R = ', R\n",
    "print 't = ', t\n",
    "\n",
    "# Write code here to compute the average reprojection error (averaged over the 28 points given)\n",
    "\n",
    "# Display the given 2D points and the reprojected 2D points on the Rubik's Cube image provided\n",
    "\n",
    "# Code for Part 2 ends here"
   ]
  }
 ],
 "metadata": {
  "colab": {
   "collapsed_sections": [],
   "name": "calibration_assignment_main.ipynb",
   "provenance": [],
   "version": "0.3.2"
  },
  "kernelspec": {
   "display_name": "Python 3",
   "language": "python",
   "name": "python3"
  },
  "language_info": {
   "codemirror_mode": {
    "name": "ipython",
    "version": 3
   },
   "file_extension": ".py",
   "mimetype": "text/x-python",
   "name": "python",
   "nbconvert_exporter": "python",
   "pygments_lexer": "ipython3",
   "version": "3.6.3"
  }
 },
 "nbformat": 4,
 "nbformat_minor": 1
}
